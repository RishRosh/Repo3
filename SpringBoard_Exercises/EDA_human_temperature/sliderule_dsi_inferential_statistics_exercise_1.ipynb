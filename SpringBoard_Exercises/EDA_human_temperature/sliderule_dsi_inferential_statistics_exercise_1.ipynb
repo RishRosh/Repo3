{
 "cells": [
  {
   "cell_type": "markdown",
   "metadata": {},
   "source": [
    "# What is the True Normal Human Body Temperature? \n",
    "\n",
    "#### Background\n",
    "\n",
    "The mean normal body temperature was held to be 37$^{\\circ}$C or 98.6$^{\\circ}$F for more than 120 years since it was first conceptualized and reported by Carl Wunderlich in a famous 1868 book. But, is this value statistically correct?"
   ]
  },
  {
   "cell_type": "markdown",
   "metadata": {},
   "source": [
    "<h3>Exercises</h3>\n",
    "\n",
    "<p>In this exercise, you will analyze a dataset of human body temperatures and employ the concepts of hypothesis testing, confidence intervals, and statistical significance.</p>\n",
    "\n",
    "<p>Answer the following questions <b>in this notebook below and submit to your Github account</b>.</p> \n",
    "\n",
    "<ol>\n",
    "<li>  Is the distribution of body temperatures normal? \n",
    "    <ul>\n",
    "    <li> Although this is not a requirement for the Central Limit Theorem to hold (read the introduction on Wikipedia's page about the CLT carefully: https://en.wikipedia.org/wiki/Central_limit_theorem), it gives us some peace of mind that the population may also be normally distributed if we assume that this sample is representative of the population.\n",
    "    <li> Think about the way you're going to check for the normality of the distribution. Graphical methods are usually used first, but there are also other ways: https://en.wikipedia.org/wiki/Normality_test\n",
    "    </ul>\n",
    "<li>  Is the sample size large? Are the observations independent?\n",
    "    <ul>\n",
    "    <li> Remember that this is a condition for the Central Limit Theorem, and hence the statistical tests we are using, to apply.\n",
    "    </ul>\n",
    "<li>  Is the true population mean really 98.6 degrees F?\n",
    "    <ul>\n",
    "    <li> First, try a bootstrap hypothesis test.\n",
    "    <li> Now, let's try frequentist statistical testing. Would you use a one-sample or two-sample test? Why?\n",
    "    <li> In this situation, is it appropriate to use the $t$ or $z$ statistic? \n",
    "    <li> Now try using the other test. How is the result be different? Why?\n",
    "    </ul>\n",
    "<li>  Draw a small sample of size 10 from the data and repeat both frequentist tests. \n",
    "    <ul>\n",
    "    <li> Which one is the correct one to use? \n",
    "    <li> What do you notice? What does this tell you about the difference in application of the $t$ and $z$ statistic?\n",
    "    </ul>\n",
    "<li>  At what temperature should we consider someone's temperature to be \"abnormal\"?\n",
    "    <ul>\n",
    "    <li> As in the previous example, try calculating everything using the boostrap approach, as well as the frequentist approach.\n",
    "    <li> Start by computing the margin of error and confidence interval. When calculating the confidence interval, keep in mind that you should use the appropriate formula for one draw, and not N draws.\n",
    "    </ul>\n",
    "<li>  Is there a significant difference between males and females in normal temperature?\n",
    "    <ul>\n",
    "    <li> What testing approach did you use and why?\n",
    "    <li> Write a story with your conclusion in the context of the original problem.\n",
    "    </ul>\n",
    "</ol>\n",
    "\n",
    "You can include written notes in notebook cells using Markdown: \n",
    "   - In the control panel at the top, choose Cell > Cell Type > Markdown\n",
    "   - Markdown syntax: http://nestacms.com/docs/creating-content/markdown-cheat-sheet\n",
    "\n",
    "#### Resources\n",
    "\n",
    "+ Information and data sources: http://www.amstat.org/publications/jse/datasets/normtemp.txt, http://www.amstat.org/publications/jse/jse_data_archive.htm\n",
    "+ Markdown syntax: http://nestacms.com/docs/creating-content/markdown-cheat-sheet\n",
    "\n",
    "****"
   ]
  },
  {
   "cell_type": "code",
   "execution_count": 11,
   "metadata": {
    "collapsed": true
   },
   "outputs": [],
   "source": [
    "# Import the data\n",
    "import pandas as pd\n",
    "df = pd.read_csv('data/human_body_temperature.csv')"
   ]
  },
  {
   "cell_type": "code",
   "execution_count": 10,
   "metadata": {
    "collapsed": false
   },
   "outputs": [],
   "source": [
    "# Import essential libraries\n",
    "import seaborn as sns\n",
    "import matplotlib.pyplot as plt\n",
    "import numpy as np\n",
    "%matplotlib inline"
   ]
  },
  {
   "cell_type": "code",
   "execution_count": 13,
   "metadata": {
    "collapsed": false
   },
   "outputs": [
    {
     "data": {
      "text/html": [
       "<div>\n",
       "<table border=\"1\" class=\"dataframe\">\n",
       "  <thead>\n",
       "    <tr style=\"text-align: right;\">\n",
       "      <th></th>\n",
       "      <th>temperature</th>\n",
       "      <th>gender</th>\n",
       "      <th>heart_rate</th>\n",
       "    </tr>\n",
       "  </thead>\n",
       "  <tbody>\n",
       "    <tr>\n",
       "      <th>0</th>\n",
       "      <td>99.3</td>\n",
       "      <td>F</td>\n",
       "      <td>68.0</td>\n",
       "    </tr>\n",
       "    <tr>\n",
       "      <th>1</th>\n",
       "      <td>98.4</td>\n",
       "      <td>F</td>\n",
       "      <td>81.0</td>\n",
       "    </tr>\n",
       "    <tr>\n",
       "      <th>2</th>\n",
       "      <td>97.8</td>\n",
       "      <td>M</td>\n",
       "      <td>73.0</td>\n",
       "    </tr>\n",
       "    <tr>\n",
       "      <th>3</th>\n",
       "      <td>99.2</td>\n",
       "      <td>F</td>\n",
       "      <td>66.0</td>\n",
       "    </tr>\n",
       "    <tr>\n",
       "      <th>4</th>\n",
       "      <td>98.0</td>\n",
       "      <td>F</td>\n",
       "      <td>73.0</td>\n",
       "    </tr>\n",
       "  </tbody>\n",
       "</table>\n",
       "</div>"
      ],
      "text/plain": [
       "   temperature gender  heart_rate\n",
       "0         99.3      F        68.0\n",
       "1         98.4      F        81.0\n",
       "2         97.8      M        73.0\n",
       "3         99.2      F        66.0\n",
       "4         98.0      F        73.0"
      ]
     },
     "execution_count": 13,
     "metadata": {},
     "output_type": "execute_result"
    }
   ],
   "source": [
    "# Look at df header\n",
    "df_temp = df[['temperature']]\n",
    "df.head()"
   ]
  },
  {
   "cell_type": "code",
   "execution_count": 15,
   "metadata": {
    "collapsed": false
   },
   "outputs": [
    {
     "data": {
      "image/png": "[encoded data removed]",
      "text/plain": [
       "<Figure size 432x288 with 1 Axes>"
      ]
     },
     "metadata": {},
     "output_type": "display_data"
    }
   ],
   "source": [
    "# Plot histogram to see data distribution\n",
    "_ = plt.hist(df['temperature'],density='True', bins=30, histtype='step', color='red')"
   ]
  },
  {
   "cell_type": "code",
   "execution_count": 18,
   "metadata": {
    "collapsed": false
   },
   "outputs": [
    {
     "data": {
      "image/png": "[encoded data removed]",
      "text/plain": [
       "<Figure size 432x288 with 1 Axes>"
      ]
     },
     "metadata": {},
     "output_type": "display_data"
    }
   ],
   "source": [
    "# Swarm plot for better visualizing distribution\n",
    "_ = sns.swarmplot(x='temperature', data=df_temp)"
   ]
  },
  {
   "cell_type": "markdown",
   "metadata": {},
   "source": [
    "#### 1. Is distribution of body temperature normal\n",
    "##### Method 1\n",
    "Checking if the distribution is normal by calculating the z scores and finding out whether they are outside the 3rd Std Deviation. \n",
    "\n",
    "As you can see, only 1 value is outside 3 standard deviations"
   ]
  },
  {
   "cell_type": "code",
   "execution_count": 21,
   "metadata": {
    "collapsed": false
   },
   "outputs": [
    {
     "data": {
      "text/html": [
       "<div>\n",
       "<table border=\"1\" class=\"dataframe\">\n",
       "  <thead>\n",
       "    <tr style=\"text-align: right;\">\n",
       "      <th></th>\n",
       "      <th>temperature</th>\n",
       "      <th>zascore</th>\n",
       "      <th>zscore</th>\n",
       "    </tr>\n",
       "  </thead>\n",
       "  <tbody>\n",
       "    <tr>\n",
       "      <th>116</th>\n",
       "      <td>100.8</td>\n",
       "      <td>0</td>\n",
       "      <td>3.479034</td>\n",
       "    </tr>\n",
       "  </tbody>\n",
       "</table>\n",
       "</div>"
      ],
      "text/plain": [
       "     temperature  zascore    zscore\n",
       "116        100.8        0  3.479034"
      ]
     },
     "execution_count": 21,
     "metadata": {},
     "output_type": "execute_result"
    }
   ],
   "source": [
    "df_temp2 = df[['temperature']]\n",
    "df_temp2.insert(1,'zascore',0)\n",
    "df_temp2['zscore'] = pd.DataFrame((df_temp2['temperature'] - df_temp2['temperature'].mean()) / df_temp2['temperature'].std())['temperature']\n",
    "df_temp2[~(df_temp2['zscore'].between(-3,3,inclusive=True))]\n"
   ]
  },
  {
   "cell_type": "markdown",
   "metadata": {},
   "source": [
    "##### Method 2\n",
    "Calculate ECDF\n",
    "\n",
    "This show a distribution close to normal distribution"
   ]
  },
  {
   "cell_type": "code",
   "execution_count": 22,
   "metadata": {
    "collapsed": false
   },
   "outputs": [
    {
     "data": {
      "image/png": "[encoded data removed]",
      "text/plain": [
       "<Figure size 432x288 with 1 Axes>"
      ]
     },
     "metadata": {},
     "output_type": "display_data"
    }
   ],
   "source": [
    "def ecdf(val1):\n",
    "    x = np.sort(val1)\n",
    "    y = np.arange(1, len(x) + 1) / len(x)\n",
    "    return(x,y)\n",
    "\n",
    "x,y = ecdf(df_temp['temperature'])\n",
    "_ = plt.plot(x,y,marker = '.',linestyle='none')\n",
    "\n"
   ]
  },
  {
   "cell_type": "markdown",
   "metadata": {
    "collapsed": true
   },
   "source": [
    "#### 2. Is the sample size large? Are the observations independent?\n",
    "Yes the sample size is 130 records and above the general rule of 30 ones which central limit theorem states.\n",
    "\n",
    "Is hasn't been specified whether the observations are independent or not. \n"
   ]
  },
  {
   "cell_type": "markdown",
   "metadata": {
    "collapsed": true
   },
   "source": [
    "#### 3. Is the true population mean really 98.6 degrees F?\n",
    "###### a. First, try a bootstrap hypothesis test. \n",
    "<b>Answer</b>:Assume that 98.6 is the actual mean temp. Shift the sample data by this mean and test the probabiliy of getting the sample mean from the shifted data.\n",
    " "
   ]
  },
  {
   "cell_type": "code",
   "execution_count": 38,
   "metadata": {
    "collapsed": false
   },
   "outputs": [
    {
     "name": "stdout",
     "output_type": "stream",
     "text": [
      "Null hpyothesis: 98.6 is the actual mean. \n",
      "Alternate Hypothesis: 98.6 is not the actual mean temperature.\n"
     ]
    },
    {
     "data": {
      "image/png": "[encoded data removed]",
      "text/plain": [
       "<Figure size 432x288 with 1 Axes>"
      ]
     },
     "metadata": {},
     "output_type": "display_data"
    },
    {
     "name": "stdout",
     "output_type": "stream",
     "text": [
      "Probability of getting the test mean from shifted data is: 0.0\n",
      "Probability of getting the test difference that of empirical difference is: 0.0\n",
      "As both of these differences highlight that null hypothesis may not be true, \n",
      " it can be assumed that mean body temperature may not be 98.6\n"
     ]
    }
   ],
   "source": [
    "print('Null hpyothesis: 98.6 is the actual mean. \\nAlternate Hypothesis: 98.6 is not the actual mean temperature.')\n",
    "\n",
    "# Write function for bootstrap replicates\n",
    "def draw_bs_reps(data,func,size=1):\n",
    "    bs_replicates = np.empty(size)\n",
    "    for i in range(size):\n",
    "        bs_sample = np.random.choice(data,size=len(data))\n",
    "        bs_replicates[i] = func(bs_sample)\n",
    "    return bs_replicates\n",
    "\n",
    "#Shift the data by Carl W's mean temp of 98.6\n",
    "cw_mean = 98.6\n",
    "tst_mean = df['temperature'].mean()\n",
    "empirical_diff = tst_mean - cw_mean\n",
    "temp_shifted = df['temperature'] - df['temperature'].mean() + cw_mean\n",
    "\n",
    "# show ecdf for comparision. \n",
    "x_shif, y_shif = ecdf(temp_shifted)\n",
    "_ = plt.plot(x_shif,y_shif,marker = '.',linestyle='none', color='red', label='shifted')\n",
    "_ = plt.plot(x,y,marker = '.',linestyle='none', color='blue',label = 'original')\n",
    "plt.legend()\n",
    "plt.title('Compare shifted and original ECDFs')\n",
    "plt.show()\n",
    "\n",
    "# Draw boot strap replicates for shifted data\n",
    "bs_temp_shifted = draw_bs_reps(temp_shifted,np.mean,100000)\n",
    "\n",
    "# Probability of getting the test mean from shifted data\n",
    "p = sum(bs_temp_shifted <= tst_mean)/len(bs_temp_shifted)\n",
    "print('Probability of getting the test mean from shifted data is: {}'.format(p))\n",
    "\n",
    "# Take out the assumed mean from data to get the difference\n",
    "bs_temp_shifted_diff = bs_temp_shifted - cw_mean \n",
    "# Calculate the probability of getting the difference that of empirical difference\n",
    "p = sum(bs_temp_shifted_diff <= empirical_diff)/ len(bs_temp_shifted_diff)\n",
    "print('Probability of getting the test difference that of empirical difference is: {}'.format(p))\n",
    "\n",
    "print('As both of these differences highlight that null hypothesis may not be true, \\n it can be assumed that mean body temperature may not be 98.6')\n"
   ]
  },
  {
   "cell_type": "markdown",
   "metadata": {},
   "source": [
    "###### b. Now, let's try frequentist statistical testing. Would you use a one-sample or two-sample test? Why?\n",
    "<b>Answer: One Sample.</b>\n",
    "One sample test makes more sense as we want to check the probability of the difference of the sample and observed mean. \n",
    "Using t-statistic is most appropriate in this case as it is used to calculate/compare the means and their differences.\n"
   ]
  },
  {
   "cell_type": "code",
   "execution_count": 37,
   "metadata": {
    "collapsed": false
   },
   "outputs": [
    {
     "name": "stdout",
     "output_type": "stream",
     "text": [
      "Probability of getting the test mean from actual mean is: 0.0\n",
      "Again, one sample frequentist method invalidates the null hypothesis\n"
     ]
    }
   ],
   "source": [
    "from scipy import stats \n",
    "# calculate the std deviation of sample/test statistic\n",
    "std_tst = df['temperature'].std()\n",
    "# formulat for t-statistic: t = (ȳ - µ0)/(s/√n)\n",
    "t_val = (tst_mean - cw_mean)/ (std_tst/np.sqrt(130))\n",
    "p_val = stats.t.cdf(t_val, 129)\n",
    "print('Probability of getting the test mean from actual mean is: {}'.format(p))\n",
    "\n",
    "print('Again, one sample frequentist method invalidates the null hypothesis')\n"
   ]
  },
  {
   "cell_type": "markdown",
   "metadata": {},
   "source": [
    "##### c. In this situation, is it appropriate to use the  tt  or  zz  statistic? Now try using the other test. How is the result be different? Why?\n",
    "<b>Answer:</b> Two sample.\n",
    "\n",
    "We use z-values for two sample approach. Although we do not have actual 2 samples, we would get one by looking up the standard deviation of observed mean body temperatures. \n",
    "\n",
    "<b>Answer:</b> Why?\n",
    "\n",
    "\n",
    "The result is slightly different due to assumption of standard deviation of body temperature is 0.6F (got from internet). However, if the standard deviation increases, it becomes greatly different to t-statistics. "
   ]
  },
  {
   "cell_type": "code",
   "execution_count": 39,
   "metadata": {
    "collapsed": false
   },
   "outputs": [
    {
     "name": "stdout",
     "output_type": "stream",
     "text": [
      "Probability of difference less than 5% of mean is:  -0.13667426002\n",
      "Empirical difference is:  -0.35076923076921673\n",
      "As empirical difference is less than 5% probability, we can reject null hypothesis\n"
     ]
    }
   ],
   "source": [
    "# Assuming that critical value is 5%, we reverse look up the z score of 5% as the difference of means is assumed to be 0 and\n",
    "# level of significance is 5 and empirical difference is negative. Assume 1 tailed distribution.\n",
    "z_tst_minus_obs = stats.norm.ppf(0.05)\n",
    "\n",
    "# forumalate standard deviation of difference of the two. Assuming that standard deviation of body temperature is 0.6F (internet)\n",
    "sd_tst_minus_obs = np.sqrt((np.square(std_tst)/130) + (np.square(0.6)/130) )\n",
    "p_val2 = (sd_tst_minus_obs * z_tst_minus_obs)\n",
    "\n",
    "print('Probability of difference less than 5% of mean is: ', p_val2)\n",
    "print('Empirical difference is: ', empirical_diff)\n",
    "print('As empirical difference is less than 5% probability, we can reject null hypothesis')\n"
   ]
  },
  {
   "cell_type": "markdown",
   "metadata": {},
   "source": [
    "#### 4. Draw a small sample of size 10 from the data and repeat both frequentist tests.\n",
    "<ol><li> Which one is the correct one to use? \n",
    "    <li> What do you notice? What does this tell you about the difference in application of the $t$ and $z$ statistic?\n",
    "</ol>\n",
    "<b>Answer</b>: Result is that t-statistic rejects null hypothesis consistently.\n",
    "But z-statistic calculation by 2 sample does not reject it. \n",
    "It can be concluded that t-statistic is a better way of going about it."
   ]
  },
  {
   "cell_type": "code",
   "execution_count": 493,
   "metadata": {
    "collapsed": false
   },
   "outputs": [
    {
     "name": "stdout",
     "output_type": "stream",
     "text": [
      "Probability of difference of means via t-statistics is :  0.00013947685564\n",
      "Probability of difference less than 5% of mean is:  -0.540779245121\n",
      "Empirical difference is:  -0.35076923076921673\n",
      "As empirical difference is greater than 5% probability, we cannot reject null hypothesis that means are same.\n"
     ]
    }
   ],
   "source": [
    "# Draw a sample of 10 with replacement\n",
    "# Without replacement is like this: s_10 = np.random.choice(df['temperature'],10,replace=False)\n",
    "s_10 = np.random.choice(df['temperature'],10)\n",
    "\n",
    "\n",
    "# Calculate the std of the sample of 10\n",
    "std_tst_10 = s_10.std()\n",
    "\n",
    "# formula for t-statistic: t = (ȳ - µ0)/(s/√n)\n",
    "t_val_10 = (s_10.mean() - cw_mean)/ (s_10.std()/np.sqrt(10))\n",
    "p_val_s10 = stats.t.cdf(t_val, 10)\n",
    "print('Probability of difference of means via t-statistics is : ', p_val_s10)\n",
    "\n",
    "# formulate via z-statistics\n",
    "sd_s10_tst_minus_obs = np.sqrt((np.square(s_10.std())/10) + (np.square(0.6)/10) )\n",
    "p_val2_s10 = (sd_s10_tst_minus_obs * z_tst_minus_obs)\n",
    "print('Probability of difference less than 5% of mean is: ', p_val2_s10)\n",
    "print('Empirical difference is: ', empirical_diff)\n",
    "print('As empirical difference is greater than 5% probability, we cannot reject null hypothesis that means are same.')\n",
    "\n",
    "\n",
    "\n"
   ]
  },
  {
   "cell_type": "markdown",
   "metadata": {},
   "source": [
    "#### 5. At what temperature should we consider someone's temperature to be \"abnormal\"?\n",
    "We define abnormal to be not fitting in 95% range. Meaning below 2.5 or 97.5 in two tailed normal distribution.\n"
   ]
  },
  {
   "cell_type": "code",
   "execution_count": 513,
   "metadata": {
    "collapsed": false
   },
   "outputs": [
    {
     "name": "stdout",
     "output_type": "stream",
     "text": [
      "Confidence interval using bootstrap:  [ 98.12384615  98.37461538]\n",
      "Standard error: 0.0643044168379\n",
      "Confidence interval using frequentist :  98.1231964282 98.3752651103\n"
     ]
    }
   ],
   "source": [
    "# 1. Using bootstraps\n",
    "bs_reps = draw_bs_reps(df['temperature'],np.mean,10000)\n",
    "print('Confidence interval using bootstrap: ',np.percentile(bs_reps,[2.5,97.5]))\n",
    "\n",
    "#2. Using frequentist\n",
    "sem = std_tst/np.sqrt(130)\n",
    "print('Standard error:',sem)\n",
    "\n",
    "# calculate 2.5 and 97.5 z scores. \n",
    "z_2_5 = stats.norm.ppf(0.025)\n",
    "z_97_5 = stats.norm.ppf(0.975)\n",
    "print('Confidence interval using frequentist : ', (z_2_5*sem) + tst_mean , z_97_5*sem + tst_mean)\n"
   ]
  },
  {
   "cell_type": "markdown",
   "metadata": {},
   "source": [
    "#### 6. Is there a significant difference between males and females in normal temperature?\n",
    "What testing approach did you use and why?\n",
    "Write a story with your conclusion in the context of the original problem.\n"
   ]
  },
  {
   "cell_type": "code",
   "execution_count": 47,
   "metadata": {
    "collapsed": false
   },
   "outputs": [
    {
     "name": "stdout",
     "output_type": "stream",
     "text": [
      "This is outside the 95% confidence interval for females: 98.39, for males: 98.1\n",
      "The probability of getting the observed difference is 0.01176\n"
     ]
    }
   ],
   "source": [
    "# Get the male and female sets\n",
    "df_m = df[df['gender'] == 'M']['temperature']\n",
    "df_f = df[df['gender'] == 'F']['temperature']\n",
    "print('This is outside the 95% confidence interval for females: {}, for males: {}'.format(round(df_f.mean(),2), round(df_m.mean(),2)))\n",
    "\n",
    "# Define permutation functions.\n",
    "def perm_samples(data1,data2):\n",
    "    data = np.concatenate((data1,data2))\n",
    "    data = np.random.permutation(data)\n",
    "    return(data[:len(data1)], data[len(data1):])\n",
    "\n",
    "def mean_diff(data1,data2):\n",
    "    return(data1.mean() - data2.mean())\n",
    "\n",
    "def perm_reps(data1,data2,func,size=1):\n",
    "    res = np.empty(size)\n",
    "    for i in range(size):\n",
    "        data1_p , data2_p = perm_samples(data1,data2)\n",
    "        res[i] = func(data1_p,data2_p)\n",
    "    return(res)\n",
    "\n",
    "# Calculate the permutations for male and female with mean diff function\n",
    "perm_diff = perm_reps(df_m, df_f, mean_diff,100000)\n",
    "\n",
    "# Calculate the observed mean\n",
    "obs_diff = df_m.mean() - df_f.mean()\n",
    "\n",
    "#Calculate the probability of getting the observed diff with perm diffs.\n",
    "p = sum(perm_diff <= obs_diff)/len(perm_diff)\n",
    "print('The probability of getting the observed difference is {}'.format(p))\n"
   ]
  },
  {
   "cell_type": "markdown",
   "metadata": {},
   "source": [
    "<b>Answer:</b> \n",
    "To answer this, we divide the test set in to data for women and men and take permuted replicates. We use this to get a good distribution of the data. Then we calculate the probability of getting the observed mean from the test mean.\n",
    "The probability is very small and it can be concluded that the null hypothesis that the temperatures of women and men are same may not be true."
   ]
  }
 ],
 "metadata": {
  "kernelspec": {
   "display_name": "Python 3",
   "language": "python",
   "name": "python3"
  },
  "language_info": {
   "codemirror_mode": {
    "name": "ipython",
    "version": 3
   },
   "file_extension": ".py",
   "mimetype": "text/x-python",
   "name": "python",
   "nbconvert_exporter": "python",
   "pygments_lexer": "ipython3",
   "version": "3.6.8"
  }
 },
 "nbformat": 4,
 "nbformat_minor": 1
}
